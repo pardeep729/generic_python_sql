{
 "cells": [
  {
   "cell_type": "markdown",
   "metadata": {},
   "source": [
    "# Executing SQL from python"
   ]
  },
  {
   "cell_type": "markdown",
   "metadata": {},
   "source": [
    "A quick overview of how to query the database with SQL via python"
   ]
  },
  {
   "cell_type": "markdown",
   "metadata": {},
   "source": [
    "<u><b>Use cases:</u></b>\n",
    "- Automate the execution of many different queries/scripts in some order\n",
    "- Read in many different tables from database and other sources, do complex data wrangling in python, then easily import into database\n",
    "- Can be called from PowerBI\n",
    "- If no priveledges to create tables, can store them locally and use this code to integrate them with database tables (e.g. joins)\n",
    "<br><br>**...and more...**"
   ]
  },
  {
   "cell_type": "markdown",
   "metadata": {},
   "source": [
    "---"
   ]
  },
  {
   "cell_type": "markdown",
   "metadata": {},
   "source": [
    "##  Create connection to database"
   ]
  },
  {
   "cell_type": "markdown",
   "metadata": {},
   "source": [
    "### Imports"
   ]
  },
  {
   "cell_type": "code",
   "execution_count": 1,
   "metadata": {},
   "outputs": [],
   "source": [
    "import pyodbc"
   ]
  },
  {
   "cell_type": "markdown",
   "metadata": {},
   "source": [
    "### Details "
   ]
  },
  {
   "cell_type": "markdown",
   "metadata": {},
   "source": [
    "We have to give `server` and `database`"
   ]
  },
  {
   "cell_type": "code",
   "execution_count": 2,
   "metadata": {},
   "outputs": [],
   "source": [
    "# Server address\n",
    "server = 'server123'\n",
    "\n",
    "# Database within server\n",
    "database = 'mydb'"
   ]
  },
  {
   "cell_type": "markdown",
   "metadata": {},
   "source": [
    "### Create connection "
   ]
  },
  {
   "cell_type": "markdown",
   "metadata": {},
   "source": [
    "Using these details + any other credentials, we create an authenticated connection to the database"
   ]
  },
  {
   "cell_type": "code",
   "execution_count": null,
   "metadata": {},
   "outputs": [],
   "source": [
    "# Connection details, in special format\n",
    "conn_string = 'DRIVER={ODBC Driver 13 for SQL Server};SERVER='+server+';DATABASE='+database+';Trusted_Connection=yes'"
   ]
  },
  {
   "cell_type": "code",
   "execution_count": null,
   "metadata": {},
   "outputs": [],
   "source": [
    "# Connection object\n",
    "conn = pyodbc.connect(conn_string)"
   ]
  },
  {
   "cell_type": "markdown",
   "metadata": {},
   "source": [
    "### Create cursor "
   ]
  },
  {
   "cell_type": "markdown",
   "metadata": {},
   "source": [
    "This is a chunk of memory on your laptop. Anytime you execute a query, any returned results get stored in the cursor, so you can access it. \n",
    "\n",
    "Think of it like the \"Results\" pane from SSMS."
   ]
  },
  {
   "cell_type": "code",
   "execution_count": null,
   "metadata": {},
   "outputs": [],
   "source": [
    "cursor = conn.cursor()"
   ]
  },
  {
   "cell_type": "code",
   "execution_count": null,
   "metadata": {},
   "outputs": [],
   "source": []
  },
  {
   "cell_type": "markdown",
   "metadata": {},
   "source": [
    "---"
   ]
  },
  {
   "cell_type": "markdown",
   "metadata": {},
   "source": [
    "## Execute a generic query "
   ]
  },
  {
   "cell_type": "markdown",
   "metadata": {},
   "source": [
    "Any valid SQL code can be run directly from this code script.\n",
    "\n",
    "So this includes SELECT queries, INSERT statements, EXEC of stored proc etc."
   ]
  },
  {
   "cell_type": "markdown",
   "metadata": {},
   "source": [
    "### Define query string "
   ]
  },
  {
   "cell_type": "markdown",
   "metadata": {},
   "source": [
    "The actual query to be run"
   ]
  },
  {
   "cell_type": "code",
   "execution_count": 3,
   "metadata": {},
   "outputs": [],
   "source": [
    "query = '''\n",
    "    SELECT * \n",
    "    FROM dbo.blah \n",
    "    WHERE x > 5\n",
    "'''"
   ]
  },
  {
   "cell_type": "markdown",
   "metadata": {},
   "source": [
    "### Execute"
   ]
  },
  {
   "cell_type": "markdown",
   "metadata": {},
   "source": [
    "We use the cursor to execute the query. Essentially\n",
    "- The cursor sends the query to the server\n",
    "- The query is executed server-side\n",
    "- The results are sent back to the cursor"
   ]
  },
  {
   "cell_type": "code",
   "execution_count": null,
   "metadata": {},
   "outputs": [],
   "source": [
    "cursor.execute(query)"
   ]
  },
  {
   "cell_type": "markdown",
   "metadata": {},
   "source": [
    "### (Optional) Commit "
   ]
  },
  {
   "cell_type": "markdown",
   "metadata": {},
   "source": [
    "You only run `commit` on the **connection** if the query changes the database (e.g. INSERT statements).\n",
    "\n",
    "Furthermore, you can set this code up so that you only commit if the `execute` was successful"
   ]
  },
  {
   "cell_type": "code",
   "execution_count": null,
   "metadata": {},
   "outputs": [],
   "source": [
    "conn.commit()"
   ]
  },
  {
   "cell_type": "markdown",
   "metadata": {},
   "source": [
    "### Close cursor and connection "
   ]
  },
  {
   "cell_type": "markdown",
   "metadata": {},
   "source": [
    "Make sure you close your cursor (i.e. free up that memory) and connection (i.e. so having got a constant live but unused connection)"
   ]
  },
  {
   "cell_type": "code",
   "execution_count": null,
   "metadata": {},
   "outputs": [],
   "source": [
    "cursor.close()\n",
    "conn.close()"
   ]
  },
  {
   "cell_type": "code",
   "execution_count": null,
   "metadata": {},
   "outputs": [],
   "source": []
  },
  {
   "cell_type": "markdown",
   "metadata": {},
   "source": [
    "---"
   ]
  },
  {
   "cell_type": "markdown",
   "metadata": {},
   "source": [
    "## Execute multiple generic queries in a specific order"
   ]
  },
  {
   "cell_type": "markdown",
   "metadata": {},
   "source": [
    "You simply write the `execute` commands in the order you want"
   ]
  },
  {
   "cell_type": "markdown",
   "metadata": {},
   "source": [
    "**N.B.** You can put all the of the above code in the same cell. If 1 step fails, the program terminates at that point"
   ]
  },
  {
   "cell_type": "code",
   "execution_count": null,
   "metadata": {},
   "outputs": [],
   "source": [
    "query_1 = '''\n",
    "    IF OBJECT_ID('dbo.Test', 'U') IS NOT NULL\n",
    "        DROP TABLE dbo.Test;\n",
    "'''\n",
    "\n",
    "query_2 = '''\n",
    "CREATE TABLE dbo.Test (\n",
    "    id INT PRIMARY KEY,\n",
    "    test1 VARCHAR(MAX)\n",
    ");\n",
    "'''\n",
    "\n",
    "query_3 = '''\n",
    "    INSERT INTO dbo.Test(id, test1) VALUES\n",
    "        (1, 'a'),\n",
    "        (2, 'b');\n",
    "'''\n",
    "\n",
    "conn = pyodbc.connect(conn_string)\n",
    "cursor = conn.cursor()\n",
    "cursor.execute(query_1)\n",
    "cursor.execute(query_2)\n",
    "cursor.execute(query_3)\n",
    "conn.commit()\n",
    "cursor.close()\n",
    "conn.close()"
   ]
  },
  {
   "cell_type": "code",
   "execution_count": null,
   "metadata": {},
   "outputs": [],
   "source": []
  },
  {
   "cell_type": "markdown",
   "metadata": {},
   "source": [
    "---"
   ]
  },
  {
   "cell_type": "markdown",
   "metadata": {},
   "source": [
    "### Use results of SELECT query "
   ]
  },
  {
   "cell_type": "markdown",
   "metadata": {},
   "source": [
    "You can get the results of a SELECT query returned directly to a special tabular form in python called a DataFrame.\n",
    "\n",
    "The power of this is that you can transform and model data how you want in python."
   ]
  },
  {
   "cell_type": "markdown",
   "metadata": {},
   "source": [
    "### Create connection "
   ]
  },
  {
   "cell_type": "code",
   "execution_count": null,
   "metadata": {},
   "outputs": [],
   "source": [
    "conn = pyodbc.connect(conn_string)"
   ]
  },
  {
   "cell_type": "markdown",
   "metadata": {},
   "source": [
    "### Create SELECT query string "
   ]
  },
  {
   "cell_type": "code",
   "execution_count": 6,
   "metadata": {},
   "outputs": [],
   "source": [
    "query = '''\n",
    "    SELECT test1, count(*) AS cnt \n",
    "    FROM dbo.blah \n",
    "    GROUP BY test1\n",
    "    ORDER BY cnt DESC;\n",
    "'''"
   ]
  },
  {
   "cell_type": "markdown",
   "metadata": {},
   "source": [
    "**N.B.** NO cursor needed, as this is created automatically for us in next step"
   ]
  },
  {
   "cell_type": "markdown",
   "metadata": {},
   "source": [
    "### Read results into DataFrame"
   ]
  },
  {
   "cell_type": "code",
   "execution_count": null,
   "metadata": {},
   "outputs": [],
   "source": [
    "# Import required library\n",
    "import pandas as pd\n",
    "\n",
    "# Execute query, return results to DataFrame table\n",
    "df = pd.read_sql(query, conn)\n",
    "\n",
    "df"
   ]
  },
  {
   "cell_type": "markdown",
   "metadata": {},
   "source": [
    "*If this were a real query, the results would be displayed here in nice tabular form*"
   ]
  },
  {
   "cell_type": "code",
   "execution_count": null,
   "metadata": {},
   "outputs": [],
   "source": []
  },
  {
   "cell_type": "markdown",
   "metadata": {},
   "source": [
    "---"
   ]
  },
  {
   "cell_type": "markdown",
   "metadata": {},
   "source": [
    "### Insert DataFrame into database table "
   ]
  },
  {
   "cell_type": "markdown",
   "metadata": {},
   "source": [
    "You can insert the final DataFrame into a database table directly."
   ]
  },
  {
   "cell_type": "markdown",
   "metadata": {},
   "source": [
    "### Create connection (we've been using whole time) "
   ]
  },
  {
   "cell_type": "code",
   "execution_count": null,
   "metadata": {},
   "outputs": [],
   "source": [
    "conn = pyodbc.connect(conn_string)"
   ]
  },
  {
   "cell_type": "markdown",
   "metadata": {},
   "source": [
    "### (Optional) Create table  "
   ]
  },
  {
   "cell_type": "code",
   "execution_count": null,
   "metadata": {},
   "outputs": [],
   "source": [
    "schema_name = 'dbo'\n",
    "table_name = 'Test'\n",
    "query = '''\n",
    "CREATE TABLE '''+schema_name+'.'+table_name+''' (\n",
    "    id INT PRIMARY KEY,\n",
    "    test1 VARCHAR(MAX)\n",
    ");\n",
    "'''\n",
    "\n",
    "cursor = conn.cursor()\n",
    "cursor.execute(query)\n",
    "conn.commit()\n",
    "cursor.close()\n",
    "conn.close()"
   ]
  },
  {
   "cell_type": "markdown",
   "metadata": {},
   "source": [
    "### Create new type of connection called 'engine'"
   ]
  },
  {
   "cell_type": "markdown",
   "metadata": {},
   "source": [
    "To make life easier, it is necessary to reformulate our connection so that the next step works.\n",
    "\n",
    "It is commonly called an `engine`, rather than `conn`"
   ]
  },
  {
   "cell_type": "code",
   "execution_count": 14,
   "metadata": {},
   "outputs": [],
   "source": [
    "# Import\n",
    "from sqlalchemy import create_engine\n",
    "\n",
    "# Create 'engine'\n",
    "eng_string = 'mssql+pyodbc://'+server+'/'+database+'?trusted_connection=yes&driver=ODBC+Driver+13+for+SQL+Server'\n",
    "engine = create_engine(eng_string)"
   ]
  },
  {
   "cell_type": "markdown",
   "metadata": {},
   "source": [
    "### Insert into this table "
   ]
  },
  {
   "cell_type": "markdown",
   "metadata": {},
   "source": [
    "You need to give this one command the `engine`, `table_name` and `schema_name`.\n",
    "\n",
    "Optionally, you can give it:\n",
    "-  `if_exists` = `'fail'`, if want code to fail if table exists; `'replace'`, if want to truncate table and insert only our new data; or `'append'` to append new data to existing data\n",
    "- `index` = `True`, if want DataFrame's auto-generated unique row ID as a column (e.g. as the primary key); otherwise `False`\n",
    "- `index_label` = name of column that will hold these newly inserted DataFrame indices"
   ]
  },
  {
   "cell_type": "code",
   "execution_count": null,
   "metadata": {},
   "outputs": [],
   "source": [
    "df.to_sql(\n",
    "    name=table_name,\n",
    "    con=engine,\n",
    "    schema=schema_name,\n",
    "    if_exists='append',\n",
    "    index=True,\n",
    "    index_label='id'\n",
    ")"
   ]
  },
  {
   "cell_type": "markdown",
   "metadata": {},
   "source": [
    "### Close `engine` "
   ]
  },
  {
   "cell_type": "markdown",
   "metadata": {},
   "source": [
    "This is called `dispose`"
   ]
  },
  {
   "cell_type": "code",
   "execution_count": 15,
   "metadata": {},
   "outputs": [],
   "source": [
    "engine.dispose()"
   ]
  },
  {
   "cell_type": "code",
   "execution_count": null,
   "metadata": {},
   "outputs": [],
   "source": []
  }
 ],
 "metadata": {
  "kernelspec": {
   "display_name": "Python 3 (ipykernel)",
   "language": "python",
   "name": "python3"
  },
  "language_info": {
   "codemirror_mode": {
    "name": "ipython",
    "version": 3
   },
   "file_extension": ".py",
   "mimetype": "text/x-python",
   "name": "python",
   "nbconvert_exporter": "python",
   "pygments_lexer": "ipython3",
   "version": "3.9.7"
  }
 },
 "nbformat": 4,
 "nbformat_minor": 4
}
